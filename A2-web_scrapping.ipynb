{
  "cells": [
    {
      "cell_type": "markdown",
      "metadata": {
        "id": "ItBEa_rOTZf1"
      },
      "source": [
        "# RESULTAT BACC TOAMASINA 2023 (Université Toamasina)\n",
        "\n",
        "Lien:https://bacc.univ-toamasina.mg\n"
      ]
    },
    {
      "cell_type": "code",
      "execution_count": null,
      "metadata": {
        "id": "tiIPmAlfSwXa"
      },
      "outputs": [],
      "source": [
        "#importation des bibliothèques\n",
        "import warnings\n",
        "import requests\n",
        "from bs4 import BeautifulSoup as bs\n",
        "import pandas as pd\n",
        "warnings.filterwarnings(\"ignore\")"
      ]
    },
    {
      "cell_type": "code",
      "execution_count": null,
      "metadata": {
        "id": "Der_BCTZTEv-"
      },
      "outputs": [],
      "source": [
        "#importation de l'url du sites\n",
        "link=\"https://bacc.univ-toamasina.mg\"\n",
        "answer= requests.get(link, verify=False)\n",
        "answer.status_code\n"
      ]
    },
    {
      "cell_type": "code",
      "execution_count": null,
      "metadata": {
        "id": "zvyYc-iDTEzV"
      },
      "outputs": [],
      "source": [
        "#création d'un session pour gérer les coockies\n",
        "session = requests.Session()\n",
        "answer= session.get(link, verify=False)\n",
        "soup = bs(answer.content,\"html.parser\")\n",
        "csrf = soup.find(\"form\").find_all(\"input\")[0][\"value\"]\n",
        "data= {\n",
        "    \"q\":\"\",\n",
        "    \"csrfmiddlewaretoken\": csrf,\n",
        "    \"candidat\":\" \",\n",
        "    \"chercher\":\"Chercher\"\n",
        "}\n",
        "\n",
        "response = session.post(link, data=data,verify=False)\n",
        "\n",
        "#vérification\n",
        "if response.status_code == 200:\n",
        "    print(\"200\")\n",
        "else:\n",
        "    print(response.status_code)\n"
      ]
    },
    {
      "cell_type": "code",
      "execution_count": null,
      "metadata": {
        "id": "bBQDxZBATE2e"
      },
      "outputs": [],
      "source": [
        "soup1=bs(response.content,\"html.parser\")"
      ]
    },
    {
      "cell_type": "code",
      "execution_count": null,
      "metadata": {
        "id": "pGTrnEbFTE5N"
      },
      "outputs": [],
      "source": [
        "#scraper les données\n",
        "#parcourir le tableau contenant les données\n",
        "table = soup1.find(\"table\")\n",
        "cmp=0\n",
        "all_data=[]\n",
        "\n",
        "#parcourir le tableau\n",
        "for information in table.find(\"tbody\").find_all(\"tr\"):\n",
        "    #cmp=cmp+1\n",
        "    #print(cmp)\n",
        "\n",
        "#creation d'un dictionnaire dans lequel on va stocker les données concernant les étudiants\n",
        "    data_student={}\n",
        "\n",
        "#Extraction de donnée\n",
        "    data=information.find_all(\"td\")\n",
        "\n",
        "#Ajout des éléments dans le dictionnaire vide\n",
        "    cle = ['Numero','Nom','Prenom','Série','Mention','Centre','Etablissement']\n",
        "    student_tem={}\n",
        "    for i,donné in enumerate(data) :\n",
        "        student_tem[cle[i]] = data[i].text\n",
        "\n",
        "#Ajout du dictionnaire dans un liste créé précédemment\n",
        "    all_data.append(student_tem)"
      ]
    },
    {
      "cell_type": "code",
      "execution_count": null,
      "metadata": {
        "colab": {
          "base_uri": "https://localhost:8080/",
          "height": 449
        },
        "id": "ZxRzhbpHTE8v",
        "outputId": "c5c60c08-24a1-441f-d9f4-102a76baa774"
      },
      "outputs": [
        {
          "name": "stdout",
          "output_type": "stream",
          "text": [
            "<class 'pandas.core.frame.DataFrame'>\n",
            "RangeIndex: 19879 entries, 0 to 19878\n",
            "Data columns (total 7 columns):\n",
            " #   Column         Non-Null Count  Dtype \n",
            "---  ------         --------------  ----- \n",
            " 0   Numero         19879 non-null  object\n",
            " 1   Nom            19879 non-null  object\n",
            " 2   Prenom         19879 non-null  object\n",
            " 3   Série          19879 non-null  object\n",
            " 4   Mention        19879 non-null  object\n",
            " 5   Centre         19879 non-null  object\n",
            " 6   Etablissement  19879 non-null  object\n",
            "dtypes: object(7)\n",
            "memory usage: 1.1+ MB\n"
          ]
        },
        {
          "data": {
            "text/html": [
              "\n",
              "  <div id=\"df-ac3e885e-b480-4344-a87a-dc7c2861f2b8\" class=\"colab-df-container\">\n",
              "    <div>\n",
              "<style scoped>\n",
              "    .dataframe tbody tr th:only-of-type {\n",
              "        vertical-align: middle;\n",
              "    }\n",
              "\n",
              "    .dataframe tbody tr th {\n",
              "        vertical-align: top;\n",
              "    }\n",
              "\n",
              "    .dataframe thead th {\n",
              "        text-align: right;\n",
              "    }\n",
              "</style>\n",
              "<table border=\"1\" class=\"dataframe\">\n",
              "  <thead>\n",
              "    <tr style=\"text-align: right;\">\n",
              "      <th></th>\n",
              "      <th>Numero</th>\n",
              "      <th>Nom</th>\n",
              "      <th>Prenom</th>\n",
              "      <th>Série</th>\n",
              "      <th>Mention</th>\n",
              "      <th>Centre</th>\n",
              "      <th>Etablissement</th>\n",
              "    </tr>\n",
              "  </thead>\n",
              "  <tbody>\n",
              "    <tr>\n",
              "      <th>19874</th>\n",
              "      <td>956 0170</td>\n",
              "      <td>SOAVELO</td>\n",
              "      <td>Marie Francelette</td>\n",
              "      <td>TTER</td>\n",
              "      <td>Passable</td>\n",
              "      <td>FENERIVE-EST</td>\n",
              "      <td>LTP Technologique Fénérive-Est</td>\n",
              "    </tr>\n",
              "    <tr>\n",
              "      <th>19875</th>\n",
              "      <td>956 0171</td>\n",
              "      <td>RAMANAMPISOA VOLOLONIAINA</td>\n",
              "      <td>Lovasoa Charlotte</td>\n",
              "      <td>TTER</td>\n",
              "      <td>Assez bien</td>\n",
              "      <td>FENERIVE-EST</td>\n",
              "      <td>LTP Technologique Fénérive-Est</td>\n",
              "    </tr>\n",
              "    <tr>\n",
              "      <th>19876</th>\n",
              "      <td>956 0174</td>\n",
              "      <td>MALINKOURATSI</td>\n",
              "      <td>Jeudinot Franki</td>\n",
              "      <td>TTER</td>\n",
              "      <td>Passable</td>\n",
              "      <td>FENERIVE-EST</td>\n",
              "      <td>LTP Technologique Fénérive-Est</td>\n",
              "    </tr>\n",
              "    <tr>\n",
              "      <th>19877</th>\n",
              "      <td>956 0176</td>\n",
              "      <td>IGNARAKA</td>\n",
              "      <td>José Christalino</td>\n",
              "      <td>TTER</td>\n",
              "      <td>Passable</td>\n",
              "      <td>FENERIVE-EST</td>\n",
              "      <td>LTP Technologique Fénérive-Est</td>\n",
              "    </tr>\n",
              "    <tr>\n",
              "      <th>19878</th>\n",
              "      <td>956 0177</td>\n",
              "      <td>IGNARAKA</td>\n",
              "      <td>Jose Grazielo</td>\n",
              "      <td>TTER</td>\n",
              "      <td>Passable</td>\n",
              "      <td>FENERIVE-EST</td>\n",
              "      <td>LTP Technologique Fénérive-Est</td>\n",
              "    </tr>\n",
              "  </tbody>\n",
              "</table>\n",
              "</div>\n",
              "    <div class=\"colab-df-buttons\">\n",
              "\n",
              "  <div class=\"colab-df-container\">\n",
              "    <button class=\"colab-df-convert\" onclick=\"convertToInteractive('df-ac3e885e-b480-4344-a87a-dc7c2861f2b8')\"\n",
              "            title=\"Convert this dataframe to an interactive table.\"\n",
              "            style=\"display:none;\">\n",
              "\n",
              "  <svg xmlns=\"http://www.w3.org/2000/svg\" height=\"24px\" viewBox=\"0 -960 960 960\">\n",
              "    <path d=\"M120-120v-720h720v720H120Zm60-500h600v-160H180v160Zm220 220h160v-160H400v160Zm0 220h160v-160H400v160ZM180-400h160v-160H180v160Zm440 0h160v-160H620v160ZM180-180h160v-160H180v160Zm440 0h160v-160H620v160Z\"/>\n",
              "  </svg>\n",
              "    </button>\n",
              "\n",
              "  <style>\n",
              "    .colab-df-container {\n",
              "      display:flex;\n",
              "      gap: 12px;\n",
              "    }\n",
              "\n",
              "    .colab-df-convert {\n",
              "      background-color: #E8F0FE;\n",
              "      border: none;\n",
              "      border-radius: 50%;\n",
              "      cursor: pointer;\n",
              "      display: none;\n",
              "      fill: #1967D2;\n",
              "      height: 32px;\n",
              "      padding: 0 0 0 0;\n",
              "      width: 32px;\n",
              "    }\n",
              "\n",
              "    .colab-df-convert:hover {\n",
              "      background-color: #E2EBFA;\n",
              "      box-shadow: 0px 1px 2px rgba(60, 64, 67, 0.3), 0px 1px 3px 1px rgba(60, 64, 67, 0.15);\n",
              "      fill: #174EA6;\n",
              "    }\n",
              "\n",
              "    .colab-df-buttons div {\n",
              "      margin-bottom: 4px;\n",
              "    }\n",
              "\n",
              "    [theme=dark] .colab-df-convert {\n",
              "      background-color: #3B4455;\n",
              "      fill: #D2E3FC;\n",
              "    }\n",
              "\n",
              "    [theme=dark] .colab-df-convert:hover {\n",
              "      background-color: #434B5C;\n",
              "      box-shadow: 0px 1px 3px 1px rgba(0, 0, 0, 0.15);\n",
              "      filter: drop-shadow(0px 1px 2px rgba(0, 0, 0, 0.3));\n",
              "      fill: #FFFFFF;\n",
              "    }\n",
              "  </style>\n",
              "\n",
              "    <script>\n",
              "      const buttonEl =\n",
              "        document.querySelector('#df-ac3e885e-b480-4344-a87a-dc7c2861f2b8 button.colab-df-convert');\n",
              "      buttonEl.style.display =\n",
              "        google.colab.kernel.accessAllowed ? 'block' : 'none';\n",
              "\n",
              "      async function convertToInteractive(key) {\n",
              "        const element = document.querySelector('#df-ac3e885e-b480-4344-a87a-dc7c2861f2b8');\n",
              "        const dataTable =\n",
              "          await google.colab.kernel.invokeFunction('convertToInteractive',\n",
              "                                                    [key], {});\n",
              "        if (!dataTable) return;\n",
              "\n",
              "        const docLinkHtml = 'Like what you see? Visit the ' +\n",
              "          '<a target=\"_blank\" href=https://colab.research.google.com/notebooks/data_table.ipynb>data table notebook</a>'\n",
              "          + ' to learn more about interactive tables.';\n",
              "        element.innerHTML = '';\n",
              "        dataTable['output_type'] = 'display_data';\n",
              "        await google.colab.output.renderOutput(dataTable, element);\n",
              "        const docLink = document.createElement('div');\n",
              "        docLink.innerHTML = docLinkHtml;\n",
              "        element.appendChild(docLink);\n",
              "      }\n",
              "    </script>\n",
              "  </div>\n",
              "\n",
              "\n",
              "<div id=\"df-2c09fcb0-8d72-4764-be2e-d0913809eb78\">\n",
              "  <button class=\"colab-df-quickchart\" onclick=\"quickchart('df-2c09fcb0-8d72-4764-be2e-d0913809eb78')\"\n",
              "            title=\"Suggest charts\"\n",
              "            style=\"display:none;\">\n",
              "\n",
              "<svg xmlns=\"http://www.w3.org/2000/svg\" height=\"24px\"viewBox=\"0 0 24 24\"\n",
              "     width=\"24px\">\n",
              "    <g>\n",
              "        <path d=\"M19 3H5c-1.1 0-2 .9-2 2v14c0 1.1.9 2 2 2h14c1.1 0 2-.9 2-2V5c0-1.1-.9-2-2-2zM9 17H7v-7h2v7zm4 0h-2V7h2v10zm4 0h-2v-4h2v4z\"/>\n",
              "    </g>\n",
              "</svg>\n",
              "  </button>\n",
              "\n",
              "<style>\n",
              "  .colab-df-quickchart {\n",
              "      --bg-color: #E8F0FE;\n",
              "      --fill-color: #1967D2;\n",
              "      --hover-bg-color: #E2EBFA;\n",
              "      --hover-fill-color: #174EA6;\n",
              "      --disabled-fill-color: #AAA;\n",
              "      --disabled-bg-color: #DDD;\n",
              "  }\n",
              "\n",
              "  [theme=dark] .colab-df-quickchart {\n",
              "      --bg-color: #3B4455;\n",
              "      --fill-color: #D2E3FC;\n",
              "      --hover-bg-color: #434B5C;\n",
              "      --hover-fill-color: #FFFFFF;\n",
              "      --disabled-bg-color: #3B4455;\n",
              "      --disabled-fill-color: #666;\n",
              "  }\n",
              "\n",
              "  .colab-df-quickchart {\n",
              "    background-color: var(--bg-color);\n",
              "    border: none;\n",
              "    border-radius: 50%;\n",
              "    cursor: pointer;\n",
              "    display: none;\n",
              "    fill: var(--fill-color);\n",
              "    height: 32px;\n",
              "    padding: 0;\n",
              "    width: 32px;\n",
              "  }\n",
              "\n",
              "  .colab-df-quickchart:hover {\n",
              "    background-color: var(--hover-bg-color);\n",
              "    box-shadow: 0 1px 2px rgba(60, 64, 67, 0.3), 0 1px 3px 1px rgba(60, 64, 67, 0.15);\n",
              "    fill: var(--button-hover-fill-color);\n",
              "  }\n",
              "\n",
              "  .colab-df-quickchart-complete:disabled,\n",
              "  .colab-df-quickchart-complete:disabled:hover {\n",
              "    background-color: var(--disabled-bg-color);\n",
              "    fill: var(--disabled-fill-color);\n",
              "    box-shadow: none;\n",
              "  }\n",
              "\n",
              "  .colab-df-spinner {\n",
              "    border: 2px solid var(--fill-color);\n",
              "    border-color: transparent;\n",
              "    border-bottom-color: var(--fill-color);\n",
              "    animation:\n",
              "      spin 1s steps(1) infinite;\n",
              "  }\n",
              "\n",
              "  @keyframes spin {\n",
              "    0% {\n",
              "      border-color: transparent;\n",
              "      border-bottom-color: var(--fill-color);\n",
              "      border-left-color: var(--fill-color);\n",
              "    }\n",
              "    20% {\n",
              "      border-color: transparent;\n",
              "      border-left-color: var(--fill-color);\n",
              "      border-top-color: var(--fill-color);\n",
              "    }\n",
              "    30% {\n",
              "      border-color: transparent;\n",
              "      border-left-color: var(--fill-color);\n",
              "      border-top-color: var(--fill-color);\n",
              "      border-right-color: var(--fill-color);\n",
              "    }\n",
              "    40% {\n",
              "      border-color: transparent;\n",
              "      border-right-color: var(--fill-color);\n",
              "      border-top-color: var(--fill-color);\n",
              "    }\n",
              "    60% {\n",
              "      border-color: transparent;\n",
              "      border-right-color: var(--fill-color);\n",
              "    }\n",
              "    80% {\n",
              "      border-color: transparent;\n",
              "      border-right-color: var(--fill-color);\n",
              "      border-bottom-color: var(--fill-color);\n",
              "    }\n",
              "    90% {\n",
              "      border-color: transparent;\n",
              "      border-bottom-color: var(--fill-color);\n",
              "    }\n",
              "  }\n",
              "</style>\n",
              "\n",
              "  <script>\n",
              "    async function quickchart(key) {\n",
              "      const quickchartButtonEl =\n",
              "        document.querySelector('#' + key + ' button');\n",
              "      quickchartButtonEl.disabled = true;  // To prevent multiple clicks.\n",
              "      quickchartButtonEl.classList.add('colab-df-spinner');\n",
              "      try {\n",
              "        const charts = await google.colab.kernel.invokeFunction(\n",
              "            'suggestCharts', [key], {});\n",
              "      } catch (error) {\n",
              "        console.error('Error during call to suggestCharts:', error);\n",
              "      }\n",
              "      quickchartButtonEl.classList.remove('colab-df-spinner');\n",
              "      quickchartButtonEl.classList.add('colab-df-quickchart-complete');\n",
              "    }\n",
              "    (() => {\n",
              "      let quickchartButtonEl =\n",
              "        document.querySelector('#df-2c09fcb0-8d72-4764-be2e-d0913809eb78 button');\n",
              "      quickchartButtonEl.style.display =\n",
              "        google.colab.kernel.accessAllowed ? 'block' : 'none';\n",
              "    })();\n",
              "  </script>\n",
              "</div>\n",
              "    </div>\n",
              "  </div>\n"
            ],
            "text/plain": [
              "         Numero                        Nom             Prenom Série  \\\n",
              "19874  956 0170                    SOAVELO  Marie Francelette  TTER   \n",
              "19875  956 0171  RAMANAMPISOA VOLOLONIAINA  Lovasoa Charlotte  TTER   \n",
              "19876  956 0174              MALINKOURATSI    Jeudinot Franki  TTER   \n",
              "19877  956 0176                   IGNARAKA   José Christalino  TTER   \n",
              "19878  956 0177                   IGNARAKA      Jose Grazielo  TTER   \n",
              "\n",
              "          Mention        Centre                   Etablissement  \n",
              "19874    Passable  FENERIVE-EST  LTP Technologique Fénérive-Est  \n",
              "19875  Assez bien  FENERIVE-EST  LTP Technologique Fénérive-Est  \n",
              "19876    Passable  FENERIVE-EST  LTP Technologique Fénérive-Est  \n",
              "19877    Passable  FENERIVE-EST  LTP Technologique Fénérive-Est  \n",
              "19878    Passable  FENERIVE-EST  LTP Technologique Fénérive-Est  "
            ]
          },
          "execution_count": 6,
          "metadata": {},
          "output_type": "execute_result"
        }
      ],
      "source": [
        "#Manipulation des données\n",
        "df= pd.DataFrame(all_data)\n",
        "df.info()\n",
        "df.tail()"
      ]
    },
    {
      "cell_type": "code",
      "execution_count": null,
      "metadata": {
        "id": "07GUjyyQTE__"
      },
      "outputs": [],
      "source": [
        "#chargez le fichier\n",
        "df.to_csv('Resultat_toamasina_2023.csv')"
      ]
    },
    {
      "cell_type": "markdown",
      "metadata": {
        "id": "Lo9FQosfUn3r"
      },
      "source": [
        "# DEPECHE EN FRANÇAIS (DANS ORANGE ACTU)\n",
        "\n",
        "Lien:https://actu.orange.mg/depeches/#page-1"
      ]
    },
    {
      "cell_type": "code",
      "execution_count": null,
      "metadata": {
        "id": "DlZnpDXKYO43"
      },
      "outputs": [],
      "source": [
        "#importation des bibliothèques\n",
        "import requests\n",
        "from bs4 import BeautifulSoup as bs\n",
        "#import panda\n",
        "import pandas as pd"
      ]
    },
    {
      "cell_type": "code",
      "execution_count": null,
      "metadata": {
        "colab": {
          "base_uri": "https://localhost:8080/"
        },
        "id": "OfAIAv_mGq7X",
        "outputId": "4039a4b1-0dc6-4e93-bae4-efda170f887d"
      },
      "outputs": [
        {
          "data": {
            "text/plain": [
              "200"
            ]
          },
          "execution_count": 9,
          "metadata": {},
          "output_type": "execute_result"
        }
      ],
      "source": [
        "#Liens contenant les dépêches en Français\n",
        "link_fr=\"https://www.orange.mg/api/depeches/langue/1/start/93433/length/20\"\n",
        "answer_fr=requests.get(link_fr)\n",
        "answer_fr.status_code"
      ]
    },
    {
      "cell_type": "code",
      "execution_count": null,
      "metadata": {
        "id": "kMOTOEs1GrLR"
      },
      "outputs": [],
      "source": [
        "#Création d'un liste pour stocker les données\n",
        "all_data=[]\n",
        "\n",
        "#Extraction des données\n",
        "count = requests.get(\"https://www.orange.mg/api/depeches/langue/1/count\").json()\n",
        "i=0\n",
        "cmp=0\n",
        "\n",
        "#on va boucler les liens pour obtenir tous les fichiers json dans la page\n",
        "while(i<count):\n",
        "    #cmp=cmp+1\n",
        "    #print(cmp)\n",
        "    page=requests.get(f\"https://www.orange.mg/api/depeches/langue/1/start/{i}/length/300\").json()\n",
        "    i += 300\n",
        "\n",
        "    #concatenation des pages\n",
        "    all_data.extend(page)\n"
      ]
    },
    {
      "cell_type": "code",
      "execution_count": null,
      "metadata": {
        "id": "8_FebcujGrN4"
      },
      "outputs": [],
      "source": [
        "df=pd.DataFrame(all_data)\n",
        "df.head()\n",
        "#convertion de la du temps en date\n",
        "def time_to_date(x):\n",
        "    try :\n",
        "        return pd.Timestamp(x,unit=\"ms\")\n",
        "    except:\n",
        "        return None\n",
        "\n",
        "date_publication= df['dataPublication'].apply(time_to_date)\n",
        "df['time_to_date']= date_publication"
      ]
    },
    {
      "cell_type": "code",
      "execution_count": null,
      "metadata": {
        "id": "YpW1furgGrQg"
      },
      "outputs": [],
      "source": [
        "#chargez le fichier\n",
        "df.to_csv('Orange_actu.csv')"
      ]
    },
    {
      "cell_type": "markdown",
      "metadata": {
        "id": "wG1LGaYFr_mR"
      },
      "source": [
        "# INFORMATION DES PUBLICATIONS(DANS MOOV)\n",
        "\n",
        "Lien :https://moov.mg/forum/category/9"
      ]
    },
    {
      "cell_type": "code",
      "execution_count": null,
      "metadata": {
        "id": "LnBoaibFGrS5"
      },
      "outputs": [],
      "source": [
        "#importation des bibliothèque\n",
        "import requests\n",
        "from bs4 import BeautifulSoup as bs\n",
        "import pandas as pd"
      ]
    },
    {
      "cell_type": "code",
      "execution_count": null,
      "metadata": {
        "colab": {
          "base_uri": "https://localhost:8080/"
        },
        "id": "CsZ6jxuNGrVe",
        "outputId": "5be129b7-dd47-4fd2-cb8f-b2ca005dc225"
      },
      "outputs": [
        {
          "output_type": "execute_result",
          "data": {
            "text/plain": [
              "200"
            ]
          },
          "metadata": {},
          "execution_count": 4
        }
      ],
      "source": [
        "#verification du liens\n",
        "link=\"https://moov.mg/forum/category/9\"\n",
        "answers= requests.get(link)\n",
        "answers.status_code"
      ]
    },
    {
      "cell_type": "code",
      "execution_count": null,
      "metadata": {
        "id": "isiemN2BGrXj"
      },
      "outputs": [],
      "source": [
        "#Extraction des données\n",
        "#Création d'un liste vide pour contenir les données\n",
        "all_data=[]\n",
        "\n",
        "#obtention de tous les liens de la première pages\n",
        "soup=bs(answers.content,\"html.parser\")\n",
        "forum = soup.find_all(class_=\"forum-name\")\n",
        "#Parcourir la page\n",
        "\n",
        "link_forum =[]\n",
        "for link in forum:\n",
        "    a_element = link.find(\"a\")\n",
        "    if a_element is None:\n",
        "        continue\n",
        "\n",
        "    href = \"https://moov.mg\" + a_element.get(\"href\")\n",
        "    link_forum.append(href)\n",
        "for link in link_forum:\n",
        "#entrer dans le lien pour extracter les données\n",
        "#boucler la page pour avoir les pages\n",
        "    next_url=link\n",
        "\n",
        "    while True:\n",
        "        resp=requests.get(next_url)\n",
        "        soup = bs(resp.content, \"html.parser\")\n",
        "        page=soup.find_all(class_=\"topic-name\")\n",
        "        url_page=[]\n",
        "        for url in page:\n",
        "            a= url.find(\"a\")\n",
        "            if a is  None:\n",
        "                continue\n",
        "            href_page=\"https://moov.mg\"+a.get(\"href\")\n",
        "            url_page.append(href_page)\n",
        "\n",
        "        for post_link in url_page:\n",
        "            resp = requests.get(post_link)\n",
        "            soup2 = bs(resp.content, \"html.parser\")\n",
        "\n",
        "            info_pub={}\n",
        "\n",
        "            data=soup2.find(class_=\"topic-body\")\n",
        "            try:\n",
        "                author = data.find(class_=\"author-name\").get_text()\n",
        "            except:\n",
        "                author=None\n",
        "\n",
        "            try:\n",
        "                titre=data.find(class_=\"topic-header\").find(\"a\").get_text()\n",
        "            except:\n",
        "                titre=None\n",
        "\n",
        "            try:\n",
        "                time = data.find(class_=\"topic-header\").find(\"time\").get_text()\n",
        "            except:\n",
        "                time = None\n",
        "            try:\n",
        "                publication=data.find(class_=\"post-content\").find(\"p\").get_text()\n",
        "            except:\n",
        "                publication = None\n",
        "            info_pub.update({\n",
        "                \"author\":author,\n",
        "                \"titre\":titre,\n",
        "                \"time\":time,\n",
        "                \"publication\":publication\n",
        "            })\n",
        "\n",
        "\n",
        "            all_data.append(info_pub)\n",
        "\n",
        "        next_url = soup.find(class_=\"pagination\").find_all(class_=\"page-item\")[-1]\n",
        "        if \"active\" in next_url.get(\"class\"):\n",
        "            break\n",
        "\n",
        "        next_url =\"https://moov.mg\"+next_url.find('a').get(\"href\")\n"
      ]
    },
    {
      "cell_type": "code",
      "execution_count": null,
      "metadata": {
        "id": "kcD6PFR6GraR",
        "colab": {
          "base_uri": "https://localhost:8080/"
        },
        "outputId": "d4e37a68-66bf-4dc2-99ae-7c0c76cd1dac"
      },
      "outputs": [
        {
          "output_type": "stream",
          "name": "stdout",
          "text": [
            "<class 'pandas.core.frame.DataFrame'>\n",
            "RangeIndex: 1617 entries, 0 to 1616\n",
            "Data columns (total 4 columns):\n",
            " #   Column       Non-Null Count  Dtype \n",
            "---  ------       --------------  ----- \n",
            " 0   author       1616 non-null   object\n",
            " 1   titre        1616 non-null   object\n",
            " 2   time         1616 non-null   object\n",
            " 3   publication  1609 non-null   object\n",
            "dtypes: object(4)\n",
            "memory usage: 50.7+ KB\n"
          ]
        }
      ],
      "source": [
        "#manipulation des données avec panda\n",
        "df=pd.DataFrame(all_data)\n",
        "df.info()"
      ]
    },
    {
      "cell_type": "code",
      "source": [
        "#chargez le fichier\n",
        "df.to_csv('Moov.csv')"
      ],
      "metadata": {
        "id": "BccEbkbVKCAS"
      },
      "execution_count": null,
      "outputs": []
    },
    {
      "cell_type": "markdown",
      "source": [
        "# FAITS DIVERS DANS MIDI MADAGASIKARA\n",
        "\n",
        "Lien :https://midi-madagasikara.mg/category/faits-divers/"
      ],
      "metadata": {
        "id": "5giyrvGZEUvq"
      }
    },
    {
      "cell_type": "code",
      "source": [
        "#importation des bibliothèque\n",
        "import requests\n",
        "from bs4 import BeautifulSoup as bs\n",
        "import pandas as pd"
      ],
      "metadata": {
        "id": "Rah8D7m5GWp8"
      },
      "execution_count": null,
      "outputs": []
    },
    {
      "cell_type": "code",
      "source": [
        "#verification du liens\n",
        "link=\"https://midi-madagasikara.mg/category/faits-divers/\"\n",
        "answers= requests.get(link)\n",
        "answers.status_code"
      ],
      "metadata": {
        "colab": {
          "base_uri": "https://localhost:8080/"
        },
        "id": "sq076IbKGWtk",
        "outputId": "741f4e38-b438-442f-b17f-a44ed95fc835"
      },
      "execution_count": null,
      "outputs": [
        {
          "output_type": "execute_result",
          "data": {
            "text/plain": [
              "200"
            ]
          },
          "metadata": {},
          "execution_count": 51
        }
      ]
    },
    {
      "cell_type": "code",
      "source": [
        "#Extraction des données\n",
        "#liste pour stocker tous les données\n",
        "all_data=[]\n",
        "\n",
        "#obtention de la première page\n",
        "soup=bs(answers.content,\"html.parser\")\n",
        "\n",
        "#Prendre les liens dans la page\n",
        "#boucler pour obtenir tous les liens\n",
        "page=[]\n",
        "next_url=\"https://midi-madagasikara.mg/category/faits-divers/\"\n",
        "while True:\n",
        "    resp=requests.get(next_url)\n",
        "    soup=bs(resp.text,\"html.parser\")\n",
        "    data = soup.find_all(class_=\"td-module-meta-info\")\n",
        "\n",
        "    for link in data:\n",
        "        a=link.find(\"a\")\n",
        "    if a is None:\n",
        "        continue\n",
        "    href=a.get(\"href\")\n",
        "    page.append(href)\n",
        "    next_url = soup.find(attrs={\"aria-label\":\"next-page\"})\n",
        "    if next_url is None:\n",
        "        break\n",
        "    next_url =next_url.get(\"href\")\n",
        "\n",
        "for all_link in page:\n",
        "    info_pub={}\n",
        "    resp=requests.get(all_link)\n",
        "    soup1=bs(resp.content,\"html.parser\")\n",
        "\n",
        "    try:\n",
        "        title=soup1.find(class_=\"tdb-title-text\").get_text()\n",
        "    except:\n",
        "        title=None\n",
        "\n",
        "    try:\n",
        "        text=soup1.find(class_=\"tdi_97\").find(class_=\"tdb-block-inner\").get_text()\n",
        "    except:\n",
        "        text=None\n",
        "    try:\n",
        "        time=soup1.find(\"time\").get_text()\n",
        "    except:\n",
        "        time=None\n",
        "    try:\n",
        "        container=soup1.find(\"span\",class_=\"reading-time-number\")\n",
        "        reading_time=container.text+container.next_sibling.text\n",
        "    except:\n",
        "        reading_time=None\n",
        "\n",
        "    info_pub.update({\n",
        "                \"text\":text,\n",
        "                \"titre\":title,\n",
        "                \"time\":time,\n",
        "                \"reading_time\":reading_time\n",
        "            })\n",
        "    #Ajout de tous les donnée extrait dans un liste\n",
        "    all_data.append(info_pub)\n"
      ],
      "metadata": {
        "id": "PD7uyMe5GWwr"
      },
      "execution_count": null,
      "outputs": []
    },
    {
      "cell_type": "code",
      "source": [
        "#Manipulation des données avec panda\n",
        "df=pd.DataFrame(all_data)\n",
        "df.info()\n"
      ],
      "metadata": {
        "colab": {
          "base_uri": "https://localhost:8080/"
        },
        "id": "RMV38DKMGWz3",
        "outputId": "4753774e-e7c8-4277-eb4a-7a2d4ade6713"
      },
      "execution_count": null,
      "outputs": [
        {
          "output_type": "stream",
          "name": "stdout",
          "text": [
            "<class 'pandas.core.frame.DataFrame'>\n",
            "Index: 0 entries\n",
            "Empty DataFrame\n"
          ]
        }
      ]
    },
    {
      "cell_type": "code",
      "source": [
        "#chargez le fichier\n",
        "df.to_csv('Midi_Mada.csv')"
      ],
      "metadata": {
        "id": "Gz7wvaQBGW29"
      },
      "execution_count": null,
      "outputs": []
    },
    {
      "cell_type": "code",
      "source": [],
      "metadata": {
        "id": "aveiqC0mGW5U"
      },
      "execution_count": null,
      "outputs": []
    },
    {
      "cell_type": "markdown",
      "source": [
        "# PROPERTY AND HOUSES FOR SALE IN WELKOM (FROM REMAX)\n",
        "\n",
        "Lien:https://www.remax.co.za/property/for-sale/south-africa/free-state/welkom/"
      ],
      "metadata": {
        "id": "p5fOPNbsCRAx"
      }
    },
    {
      "cell_type": "code",
      "source": [
        "#importation de bibliothèque\n",
        "import requests\n",
        "from bs4 import BeautifulSoup as bs\n",
        "import pandas as pd"
      ],
      "metadata": {
        "id": "PtPlMYAjGW8L"
      },
      "execution_count": null,
      "outputs": []
    },
    {
      "cell_type": "code",
      "source": [
        "link=\"https://www.remax.co.za/property/for-sale/south-africa/free-state/welkom/\"\n",
        "answer= requests.get(link)\n",
        "answer.status_code"
      ],
      "metadata": {
        "colab": {
          "base_uri": "https://localhost:8080/"
        },
        "id": "rrbxiwIlGW_V",
        "outputId": "3a82c6e0-5c20-4d27-d0fe-f6f516bf9584"
      },
      "execution_count": null,
      "outputs": [
        {
          "output_type": "execute_result",
          "data": {
            "text/plain": [
              "200"
            ]
          },
          "metadata": {},
          "execution_count": 2
        }
      ]
    },
    {
      "cell_type": "code",
      "source": [
        "#Extraction des données\n",
        "all_data=[]\n",
        "soup=bs(answer.content,\"html.parser\")\n",
        "\n",
        "next_url=\"https://www.remax.co.za/property/for-sale/south-africa/free-state/welkom/\"\n",
        "#Obtenir tous les liens de toutes les pages\n",
        "while True :\n",
        "    page=[]\n",
        "    reps=requests.get(next_url)\n",
        "    soup1=bs(reps.content,\"html.parser\")\n",
        "    data = soup1.find_all(class_=\"outer-container\")\n",
        "    for link in data :\n",
        "        a=link.find(\"a\")\n",
        "        if a is None:\n",
        "            continue\n",
        "        href=\"https://www.remax.co.za\"+a.get(\"href\")\n",
        "        page.append(href)\n",
        "\n",
        "\n",
        "#print(page)\n",
        "    for link_page in page:\n",
        "\n",
        "        reps=requests.get(link_page)\n",
        "        soup2=bs(reps.content,\"html.parser\")\n",
        "        data_page=soup2.find(attrs={\"id\":\"listing-info\"})\n",
        "\n",
        "        details_page={}\n",
        "        details=data_page.find(class_=\"details property-details\")\n",
        "        table=details.find(\"table\")\n",
        "\n",
        "        try:\n",
        "            address=data_page.find(class_=\"address\").get_text()\n",
        "        except:\n",
        "            address = None\n",
        "        try:\n",
        "            price =data_page.find(class_=\"listing_price\").get_text()\n",
        "        except:\n",
        "            price = None\n",
        "\n",
        "        details_page.update({\n",
        "            \"address\":address,\n",
        "            \"price\":price\n",
        "            })\n",
        "\n",
        "        for feature in data_page.find(class_=\"mobi-features-list\").find_all(\"li\"):\n",
        "            cle=feature.contents[0]\n",
        "            val=feature.contents[1].get_text()\n",
        "            if val==\"\":\n",
        "                val=\"ok\"\n",
        "            details_page.update({\n",
        "                cle:val\n",
        "            })\n",
        "\n",
        "        for information in table.find_all(\"tr\"):\n",
        "            td=information.find_all(\"td\")\n",
        "            details_page.update({\n",
        "            td[0].text:td[1].text\n",
        "            })\n",
        "\n",
        "        all_data.append(details_page)\n",
        "\n",
        "    next_url=soup1.find(attrs={\"rel\":\"next\"})\n",
        "    last_url=soup1.find_all(class_=\"page-item\")[-1]\n",
        "    if \"disabled\" in last_url.get(\"class\"):\n",
        "        break\n",
        "    next_url=next_url.get(\"href\")\n"
      ],
      "metadata": {
        "id": "NIl-rsZJGXCL"
      },
      "execution_count": null,
      "outputs": []
    },
    {
      "cell_type": "code",
      "source": [
        "df=pd.DataFrame(all_data)\n",
        "df.shape"
      ],
      "metadata": {
        "colab": {
          "base_uri": "https://localhost:8080/"
        },
        "id": "G85qHAqSGXE3",
        "outputId": "55c8aae0-b98a-4c0d-bf4a-fefa6b17ede6"
      },
      "execution_count": null,
      "outputs": [
        {
          "output_type": "execute_result",
          "data": {
            "text/plain": [
              "(124, 41)"
            ]
          },
          "metadata": {},
          "execution_count": 5
        }
      ]
    },
    {
      "cell_type": "code",
      "execution_count": null,
      "metadata": {
        "id": "NxZsNb9UGrfe"
      },
      "outputs": [],
      "source": [
        "#chargez le fichier\n",
        "df.to_csv('Remax.csv')"
      ]
    },
    {
      "cell_type": "markdown",
      "source": [
        "# PROPERTY FROM RAWSON\n",
        "\n",
        "Liens:https://rawson.co.za/property/for-sale/mpumalanga"
      ],
      "metadata": {
        "id": "dXCo-u7t2wdc"
      }
    },
    {
      "cell_type": "code",
      "source": [
        "#importation des bibliothèque\n",
        "import requests\n",
        "from bs4 import BeautifulSoup as bs\n",
        "#import panda\n",
        "import pandas as pd\n",
        "import re"
      ],
      "metadata": {
        "id": "RSip8n0n2nsx"
      },
      "execution_count": null,
      "outputs": []
    },
    {
      "cell_type": "code",
      "source": [
        "link=\"https://rawson.co.za/property/for-sale/mpumalanga\"\n",
        "answer= requests.get(link)\n",
        "answer.status_code"
      ],
      "metadata": {
        "id": "AUJ1Z04G2n4p",
        "colab": {
          "base_uri": "https://localhost:8080/"
        },
        "outputId": "7bc6c9c1-8a6d-4753-a562-b35ac6be5b1d"
      },
      "execution_count": null,
      "outputs": [
        {
          "output_type": "execute_result",
          "data": {
            "text/plain": [
              "200"
            ]
          },
          "metadata": {},
          "execution_count": 8
        }
      ]
    },
    {
      "cell_type": "code",
      "source": [
        "#extraction de donnée\n",
        "all_data=[]\n",
        "soup=bs(answer.content,\"html.parser\")\n",
        "next_url=\"https://rawson.co.za/property/for-sale/mpumalanga\"\n",
        "page=[]\n",
        "while True:\n",
        "  reps=requests.get(next_url)\n",
        "  soup1=bs(reps.content,\"html.parser\")\n",
        "  data = soup1.find(class_=\"slice slice--1-2\")\n",
        "  data2 =data.find_all(class_=\"card\")\n",
        "  for link in data2:\n",
        "      a=link.find(\"a\")\n",
        "      if a is None:\n",
        "          continue\n",
        "      href=a.get(\"href\")\n",
        "      page.append(href)\n",
        "\n",
        "  next_url = soup1.find(attrs={\"rel\":\"next\"})\n",
        "  if next_url is None:\n",
        "      break\n",
        "  next_url =next_url.get(\"href\")\n",
        "\n",
        "for link_page in page:\n",
        "    info={}\n",
        "    resp=requests.get(link_page)\n",
        "    soup2=bs(resp.content,\"html.parser\")\n",
        "    feature=soup2.find(class_=\"l-section__main\").find_all(class_=\"features\")\n",
        "\n",
        "    try:\n",
        "        price=soup2.find(class_=\"hero__price\").text\n",
        "    except:\n",
        "        price=None\n",
        "\n",
        "    for feat in feature:\n",
        "        feature_label=feat.find_all(class_=\"features__label\")\n",
        "    #utilisation de regex\n",
        "        for element in feature_label:\n",
        "            match=re.match(r\"(\\w+ \\w+) (\\d+.+)\",element.text)\n",
        "            if match:\n",
        "                key=match.group(1)\n",
        "                values=match.group(2)\n",
        "                info.update({key:values})\n",
        "\n",
        "            match1=re.match(r\"^(\\d+) (\\w+)\",element.text)\n",
        "            if match1:\n",
        "                key=match1.group(2)\n",
        "                values=match1.group(1)\n",
        "                info.update({key:values})\n",
        "\n",
        "    info.update({\n",
        "    \"price\":price\n",
        "})\n",
        "    all_data.append(info)\n"
      ],
      "metadata": {
        "id": "dpAz8p1Q91zi"
      },
      "execution_count": null,
      "outputs": []
    },
    {
      "cell_type": "code",
      "source": [
        "df=pd.DataFrame(all_data)\n",
        "df.shape\n",
        "df.info()"
      ],
      "metadata": {
        "colab": {
          "base_uri": "https://localhost:8080/"
        },
        "id": "S3WuCDNd919T",
        "outputId": "521289e0-5f57-4e98-beef-0ea922b1d252"
      },
      "execution_count": null,
      "outputs": [
        {
          "output_type": "stream",
          "name": "stdout",
          "text": [
            "<class 'pandas.core.frame.DataFrame'>\n",
            "RangeIndex: 509 entries, 0 to 508\n",
            "Data columns (total 25 columns):\n",
            " #   Column         Non-Null Count  Dtype \n",
            "---  ------         --------------  ----- \n",
            " 0   ERF Size       509 non-null    object\n",
            " 1   Bedrooms       426 non-null    object\n",
            " 2   TV             148 non-null    object\n",
            " 3   Bathrooms      322 non-null    object\n",
            " 4   Garages        207 non-null    object\n",
            " 5   price          509 non-null    object\n",
            " 6   Building Size  107 non-null    object\n",
            " 7   Lounge         332 non-null    object\n",
            " 8   Bathroom       94 non-null     object\n",
            " 9   Dining         247 non-null    object\n",
            " 10  Garage         108 non-null    object\n",
            " 11  Store          83 non-null     object\n",
            " 12  Carports       109 non-null    object\n",
            " 13  Family         53 non-null     object\n",
            " 14  Study          77 non-null     object\n",
            " 15  Fireplace      49 non-null     object\n",
            " 16  Parking        111 non-null    object\n",
            " 17  Carport        95 non-null     object\n",
            " 18  Flatlet        67 non-null     object\n",
            " 19  Reception      58 non-null     object\n",
            " 20  Flatlets       13 non-null     object\n",
            " 21  Fireplaces     8 non-null      object\n",
            " 22  Bedroom        15 non-null     object\n",
            " 23  Lounges        12 non-null     object\n",
            " 24  Studies        4 non-null      object\n",
            "dtypes: object(25)\n",
            "memory usage: 99.5+ KB\n"
          ]
        }
      ]
    },
    {
      "cell_type": "code",
      "source": [
        "#chargez le fichier\n",
        "df.to_csv('Rawson.csv')"
      ],
      "metadata": {
        "id": "Lg9voPDqmpON"
      },
      "execution_count": null,
      "outputs": []
    },
    {
      "cell_type": "markdown",
      "source": [
        "# PROPERTY FROM SAHOMETRADERS\n",
        "\n",
        "Liens:https://www.sahometraders.co.za/property-for-sale-in-gauteng-p1?propertytypes=houses,apartments-flats,townhouses"
      ],
      "metadata": {
        "id": "x5mS1cB8Nzbw"
      }
    },
    {
      "cell_type": "code",
      "source": [
        "#import la bibliothèque request et beautifulsoup ,des outils adapté pour scraper la page web\n",
        "import requests\n",
        "from bs4 import BeautifulSoup as bs\n",
        "#import panda\n",
        "import pandas as pd"
      ],
      "metadata": {
        "id": "qBmd4cDieXIp"
      },
      "execution_count": null,
      "outputs": []
    },
    {
      "cell_type": "code",
      "source": [
        "#importer l'url du site à scraper dans un variable\n",
        "link =\"https://www.sahometraders.co.za/property-for-sale-in-gauteng-p1?propertytypes=houses,apartments-flats,townhouses\"\n",
        "answer=requests.get(link)\n",
        "answer.status_code"
      ],
      "metadata": {
        "colab": {
          "base_uri": "https://localhost:8080/"
        },
        "id": "Jo7IMZC8eXXw",
        "outputId": "d02db822-86ef-46da-c245-dc43e623db6e"
      },
      "execution_count": null,
      "outputs": [
        {
          "output_type": "execute_result",
          "data": {
            "text/plain": [
              "200"
            ]
          },
          "metadata": {},
          "execution_count": 3
        }
      ]
    },
    {
      "cell_type": "code",
      "source": [
        "def page_web(link):\n",
        "    answer= requests.get(link)\n",
        "    soup = bs(answer.content,\"html.parser\")\n",
        "    data=soup.find(class_=\"sc_panelWrapper sc_searchResultsP24Style\")\n",
        "    all_data=[]\n",
        "    for info in data.find_all(class_=\"p24_content\"):\n",
        "    #creation d'un dictionnaire pour mettre les information dans chaque appartemment\n",
        "        data_appartement_info={}\n",
        "\n",
        "        try:\n",
        "            price=info.find(class_=\"p24_price\").get_text()\n",
        "        except:\n",
        "            price=None\n",
        "\n",
        "        try:\n",
        "            location=info.find(class_=\"p24_location\").get_text()\n",
        "        except:\n",
        "            location=None\n",
        "\n",
        "        try:\n",
        "            description=info.find(class_=\"p24_propertyTitle\").get_text()\n",
        "        except:\n",
        "            description=None\n",
        "\n",
        "        bedrooms_number = info.find(class_=\"p24_featureDetails\",title=\"Bedrooms\")\n",
        "        try:\n",
        "            bedrooms_number=bedrooms_number.find(\"span\").get_text()\n",
        "        except:\n",
        "            bedrooms_number = None\n",
        "\n",
        "        bathrooms_number= info.find(class_=\"p24_featureDetails\", title=\"Bathrooms\")\n",
        "        try:\n",
        "            bathrooms_number = bathrooms_number.find(\"span\").get_text()\n",
        "        except:\n",
        "            bathrooms_number = None\n",
        "\n",
        "        parking_spaces = info.find(class_=\"p24_featureDetails\", title=\"Parking Spaces\")\n",
        "        try :\n",
        "            parking_spaces= parking_spaces.find(\"span\").get_text()\n",
        "        except:\n",
        "            parking_spaces = None\n",
        "\n",
        "        Floor_Size = info.find(class_=\"p24_size\", title=\"Floor Size\")\n",
        "        try:\n",
        "            Floor_Size = Floor_Size.find(\"span\").get_text()\n",
        "        except:\n",
        "            Floor_Size = None\n",
        "\n",
        "        erf_size = info.find(class_=\"p24_size\", title=\"Erf Size\")\n",
        "        try:\n",
        "            erf_size =erf_size .find(\"span\").get_text()\n",
        "        except:\n",
        "            erf_size = None\n",
        "        #Ajout des éléments dans un dictionnaire\n",
        "        data_appartement_info=({\n",
        "            \"Price\":price,\n",
        "            \"Location\":location,\n",
        "            \"Description\":description,\n",
        "            \"Bedroom\":bedrooms_number,\n",
        "            \"Bathroom\":bathrooms_number,\n",
        "            \"Parking_space\":parking_spaces,\n",
        "            \"Floor_size\":Floor_Size,\n",
        "            \"Erf_size\":erf_size,\n",
        "            \"link\":link\n",
        "        })\n",
        "\n",
        "        all_data.append(data_appartement_info)\n",
        "        #print(all_data)\n",
        "    next_url=soup.find(\"div\",class_=\"text-center\").find(\"span\",class_=\"pull-right text-muted\").find(\"a\").get(\"href\")\n",
        "    return all_data, next_url"
      ],
      "metadata": {
        "id": "MfkstGXtearQ"
      },
      "execution_count": null,
      "outputs": []
    },
    {
      "cell_type": "code",
      "source": [
        "all_page =[]\n",
        "url = link\n",
        "page_num = 0\n",
        "while url != \"\":\n",
        "  page_num += 1\n",
        "  print(page_num)\n",
        "  ds, url = page_web(url)\n",
        "    #Concatenation des listes\n",
        "  all_page.extend(ds)"
      ],
      "metadata": {
        "id": "OAbR5eQXebOX"
      },
      "execution_count": null,
      "outputs": []
    },
    {
      "cell_type": "code",
      "source": [
        "df=pd.DataFrame(all_page)\n",
        "df[\"Price\"]=df[\"Price\"].str.strip()\n",
        "def type(x):\n",
        "    if x is None:\n",
        "        return None\n",
        "    elif x.find(\"House\") != -1:\n",
        "        return \"House\"\n",
        "    elif x.find(\"Townhouse\") != -1:\n",
        "        return \"Townhouse\"\n",
        "    elif x.find(\"Apartement\") !=-1 or x.find(\"Flat\") != -1:\n",
        "        return \"Apartment/Flat\"\n",
        "\n",
        "df[\"Property\"]= df[\"Description\"].apply(type)\n",
        "df.head()\n",
        "df.shape"
      ],
      "metadata": {
        "id": "Y0eAnmdnebSG",
        "colab": {
          "base_uri": "https://localhost:8080/"
        },
        "outputId": "c32a8cf4-e85a-4ae7-fac3-0d3179a2645b"
      },
      "execution_count": null,
      "outputs": [
        {
          "output_type": "execute_result",
          "data": {
            "text/plain": [
              "(28959, 10)"
            ]
          },
          "metadata": {},
          "execution_count": 9
        }
      ]
    },
    {
      "cell_type": "code",
      "source": [
        "#chargez le fichier\n",
        "df.to_csv('Sahometraders.csv')"
      ],
      "metadata": {
        "id": "02vSpF5BfOwL"
      },
      "execution_count": null,
      "outputs": []
    },
    {
      "cell_type": "markdown",
      "source": [
        "# TROVIT"
      ],
      "metadata": {
        "id": "O7quaISWXdiT"
      }
    },
    {
      "cell_type": "code",
      "source": [
        "#importation des bibliothèque nécéssaire\n",
        "import requests\n",
        "from bs4 import BeautifulSoup as bs\n",
        "import pandas as pd"
      ],
      "metadata": {
        "id": "g3FSxhveXds_"
      },
      "execution_count": null,
      "outputs": []
    },
    {
      "cell_type": "code",
      "source": [
        "link=\"https://homes.trovit.co.za/index.php/cod.search_homes/type.1/what_d.eastern%20cape/isUserSearch.1\"\n",
        "answer=requests.get(link)\n",
        "answer.status_code"
      ],
      "metadata": {
        "colab": {
          "base_uri": "https://localhost:8080/"
        },
        "id": "m7_D3lmpXdwC",
        "outputId": "397edd17-df42-4fc1-abc9-4939ea02edd7"
      },
      "execution_count": null,
      "outputs": [
        {
          "output_type": "execute_result",
          "data": {
            "text/plain": [
              "200"
            ]
          },
          "metadata": {},
          "execution_count": 2
        }
      ]
    },
    {
      "cell_type": "code",
      "source": [
        "all_data=[]\n",
        "\n",
        "soup= bs(answer.content,\"html.parser\")\n",
        "data=soup.find(attrs={\"id\":\"content_center\"})\n",
        "next_url=\"https://homes.trovit.co.za/index.php/cod.search_homes/type.1/what_d.eastern%20cape/isUserSearch.1\"\n",
        "\n",
        "page_num = 0\n",
        "while True:\n",
        "    page_num += 1\n",
        "    print(page_num)\n",
        "    reps=requests.get(next_url)\n",
        "    soup1=bs(reps.content,\"html.parser\")\n",
        "    data=soup1.find(attrs={\"id\":\"content_center\"})\n",
        "    for info in data.find_all(class_=\"snippet-content-main\"):\n",
        "            data_appartement_info={}\n",
        "            try:\n",
        "                price=info.find(class_=\"item-price\").get_text()\n",
        "            except:\n",
        "                price=None\n",
        "\n",
        "            try:\n",
        "                location=info.find(class_=\"item-address\").get_text()\n",
        "            except:\n",
        "                location=None\n",
        "\n",
        "            try:\n",
        "                title=info.find(class_=\"item-title\").get_text()\n",
        "            except:\n",
        "                title=None\n",
        "\n",
        "            bedrooms_number = info.find(class_=\"item-property item-rooms\")\n",
        "            try:\n",
        "                bedrooms_number=bedrooms_number.find(\"span\").get_text()\n",
        "            except:\n",
        "                bedrooms_number = None\n",
        "\n",
        "            bathrooms_number= info.find(class_=\"item-property item-baths\")\n",
        "            try:\n",
        "                bathrooms_number = bathrooms_number.find(\"span\").get_text()\n",
        "            except:\n",
        "                bathrooms_number = None\n",
        "\n",
        "            Size = info.find(class_=\"item-property item-size\")\n",
        "            try:\n",
        "                Size = Size.find(\"span\").get_text()\n",
        "            except:\n",
        "                Size = None\n",
        "\n",
        "            #Ajout des éléments dans un dictionnaire\n",
        "            data_appartement_info=({\n",
        "                \"Price\":price,\n",
        "                \"Location\":location,\n",
        "                \"Description\":title,\n",
        "                \"Bedroom\":bedrooms_number,\n",
        "                \"Bathroom\":bathrooms_number,\n",
        "                \"Size\":Size,\n",
        "            })\n",
        "            all_data.append(data_appartement_info)\n",
        "\n",
        "\n",
        "    next_url=soup1.find(\"p\",class_=\"trovit-paginator\").find(\"a\",attrs={\"data-test\":\"p-next\"})\n",
        "    if next_url is None:\n",
        "        break\n",
        "    next_url =next_url.get(\"href\")"
      ],
      "metadata": {
        "id": "xTzWrdpfXd3-"
      },
      "execution_count": null,
      "outputs": []
    },
    {
      "cell_type": "code",
      "source": [
        "df=pd.DataFrame(all_data)\n",
        "def type(x):\n",
        "    if x is None:\n",
        "        return None\n",
        "    elif x.find(\"House\") != -1:\n",
        "        return \"House\"\n",
        "    elif x.find(\"Townhouse\") != -1:\n",
        "        return \"Townhouse\"\n",
        "    elif x.find(\"Apartement\") !=-1 or x.find(\"Flat\") != -1:\n",
        "        return \"Apartment/Flat\"\n",
        "\n",
        "df[\"Property\"]= df[\"Description\"].apply(type)\n",
        "df.head()\n"
      ],
      "metadata": {
        "colab": {
          "base_uri": "https://localhost:8080/",
          "height": 206
        },
        "id": "Gbdl3d2eXd7B",
        "outputId": "f7a5b14f-f1d0-4254-c74f-9e8e4ddda6a0"
      },
      "execution_count": null,
      "outputs": [
        {
          "output_type": "execute_result",
          "data": {
            "text/plain": [
              "            Price                                           Location  \\\n",
              "0   ZAR1,350,000                                      Eastern Cape     \n",
              "1   ZAR5,950,000                                      Eastern Cape     \n",
              "2   ZAR6,700,000     Cape St. Francis, Sarah Baartman District Mu...   \n",
              "3     ZAR360,000                                      Eastern Cape     \n",
              "4     ZAR330,000                                      Eastern Cape     \n",
              "\n",
              "                                         Description       Bedroom  \\\n",
              "0    3 Bedroom House Eastern Cape For Sale At 1350-    3  bedrooms   \n",
              "1    5 Bedroom House Eastern Cape For Sale At 5950-    5  bedrooms   \n",
              "2   5 Bedroom House Cape St Francis Eastern Cape ...   5  bedrooms   \n",
              "3                                  Eastern Cape N/A              -   \n",
              "4                                  Eastern Cape N/A              -   \n",
              "\n",
              "        Bathroom      Size Property  \n",
              "0   1  bathrooms   110  m²    House  \n",
              "1   4  bathrooms   450  m²    House  \n",
              "2   4  bathrooms   325  m²    House  \n",
              "3              -         -     None  \n",
              "4              -         -     None  "
            ],
            "text/html": [
              "\n",
              "  <div id=\"df-f5ad78e9-ef16-435b-a9cd-8e7462dd173c\" class=\"colab-df-container\">\n",
              "    <div>\n",
              "<style scoped>\n",
              "    .dataframe tbody tr th:only-of-type {\n",
              "        vertical-align: middle;\n",
              "    }\n",
              "\n",
              "    .dataframe tbody tr th {\n",
              "        vertical-align: top;\n",
              "    }\n",
              "\n",
              "    .dataframe thead th {\n",
              "        text-align: right;\n",
              "    }\n",
              "</style>\n",
              "<table border=\"1\" class=\"dataframe\">\n",
              "  <thead>\n",
              "    <tr style=\"text-align: right;\">\n",
              "      <th></th>\n",
              "      <th>Price</th>\n",
              "      <th>Location</th>\n",
              "      <th>Description</th>\n",
              "      <th>Bedroom</th>\n",
              "      <th>Bathroom</th>\n",
              "      <th>Size</th>\n",
              "      <th>Property</th>\n",
              "    </tr>\n",
              "  </thead>\n",
              "  <tbody>\n",
              "    <tr>\n",
              "      <th>0</th>\n",
              "      <td>ZAR1,350,000</td>\n",
              "      <td>Eastern Cape</td>\n",
              "      <td>3 Bedroom House Eastern Cape For Sale At 1350-</td>\n",
              "      <td>3  bedrooms</td>\n",
              "      <td>1  bathrooms</td>\n",
              "      <td>110  m²</td>\n",
              "      <td>House</td>\n",
              "    </tr>\n",
              "    <tr>\n",
              "      <th>1</th>\n",
              "      <td>ZAR5,950,000</td>\n",
              "      <td>Eastern Cape</td>\n",
              "      <td>5 Bedroom House Eastern Cape For Sale At 5950-</td>\n",
              "      <td>5  bedrooms</td>\n",
              "      <td>4  bathrooms</td>\n",
              "      <td>450  m²</td>\n",
              "      <td>House</td>\n",
              "    </tr>\n",
              "    <tr>\n",
              "      <th>2</th>\n",
              "      <td>ZAR6,700,000</td>\n",
              "      <td>Cape St. Francis, Sarah Baartman District Mu...</td>\n",
              "      <td>5 Bedroom House Cape St Francis Eastern Cape ...</td>\n",
              "      <td>5  bedrooms</td>\n",
              "      <td>4  bathrooms</td>\n",
              "      <td>325  m²</td>\n",
              "      <td>House</td>\n",
              "    </tr>\n",
              "    <tr>\n",
              "      <th>3</th>\n",
              "      <td>ZAR360,000</td>\n",
              "      <td>Eastern Cape</td>\n",
              "      <td>Eastern Cape N/A</td>\n",
              "      <td>-</td>\n",
              "      <td>-</td>\n",
              "      <td>-</td>\n",
              "      <td>None</td>\n",
              "    </tr>\n",
              "    <tr>\n",
              "      <th>4</th>\n",
              "      <td>ZAR330,000</td>\n",
              "      <td>Eastern Cape</td>\n",
              "      <td>Eastern Cape N/A</td>\n",
              "      <td>-</td>\n",
              "      <td>-</td>\n",
              "      <td>-</td>\n",
              "      <td>None</td>\n",
              "    </tr>\n",
              "  </tbody>\n",
              "</table>\n",
              "</div>\n",
              "    <div class=\"colab-df-buttons\">\n",
              "\n",
              "  <div class=\"colab-df-container\">\n",
              "    <button class=\"colab-df-convert\" onclick=\"convertToInteractive('df-f5ad78e9-ef16-435b-a9cd-8e7462dd173c')\"\n",
              "            title=\"Convert this dataframe to an interactive table.\"\n",
              "            style=\"display:none;\">\n",
              "\n",
              "  <svg xmlns=\"http://www.w3.org/2000/svg\" height=\"24px\" viewBox=\"0 -960 960 960\">\n",
              "    <path d=\"M120-120v-720h720v720H120Zm60-500h600v-160H180v160Zm220 220h160v-160H400v160Zm0 220h160v-160H400v160ZM180-400h160v-160H180v160Zm440 0h160v-160H620v160ZM180-180h160v-160H180v160Zm440 0h160v-160H620v160Z\"/>\n",
              "  </svg>\n",
              "    </button>\n",
              "\n",
              "  <style>\n",
              "    .colab-df-container {\n",
              "      display:flex;\n",
              "      gap: 12px;\n",
              "    }\n",
              "\n",
              "    .colab-df-convert {\n",
              "      background-color: #E8F0FE;\n",
              "      border: none;\n",
              "      border-radius: 50%;\n",
              "      cursor: pointer;\n",
              "      display: none;\n",
              "      fill: #1967D2;\n",
              "      height: 32px;\n",
              "      padding: 0 0 0 0;\n",
              "      width: 32px;\n",
              "    }\n",
              "\n",
              "    .colab-df-convert:hover {\n",
              "      background-color: #E2EBFA;\n",
              "      box-shadow: 0px 1px 2px rgba(60, 64, 67, 0.3), 0px 1px 3px 1px rgba(60, 64, 67, 0.15);\n",
              "      fill: #174EA6;\n",
              "    }\n",
              "\n",
              "    .colab-df-buttons div {\n",
              "      margin-bottom: 4px;\n",
              "    }\n",
              "\n",
              "    [theme=dark] .colab-df-convert {\n",
              "      background-color: #3B4455;\n",
              "      fill: #D2E3FC;\n",
              "    }\n",
              "\n",
              "    [theme=dark] .colab-df-convert:hover {\n",
              "      background-color: #434B5C;\n",
              "      box-shadow: 0px 1px 3px 1px rgba(0, 0, 0, 0.15);\n",
              "      filter: drop-shadow(0px 1px 2px rgba(0, 0, 0, 0.3));\n",
              "      fill: #FFFFFF;\n",
              "    }\n",
              "  </style>\n",
              "\n",
              "    <script>\n",
              "      const buttonEl =\n",
              "        document.querySelector('#df-f5ad78e9-ef16-435b-a9cd-8e7462dd173c button.colab-df-convert');\n",
              "      buttonEl.style.display =\n",
              "        google.colab.kernel.accessAllowed ? 'block' : 'none';\n",
              "\n",
              "      async function convertToInteractive(key) {\n",
              "        const element = document.querySelector('#df-f5ad78e9-ef16-435b-a9cd-8e7462dd173c');\n",
              "        const dataTable =\n",
              "          await google.colab.kernel.invokeFunction('convertToInteractive',\n",
              "                                                    [key], {});\n",
              "        if (!dataTable) return;\n",
              "\n",
              "        const docLinkHtml = 'Like what you see? Visit the ' +\n",
              "          '<a target=\"_blank\" href=https://colab.research.google.com/notebooks/data_table.ipynb>data table notebook</a>'\n",
              "          + ' to learn more about interactive tables.';\n",
              "        element.innerHTML = '';\n",
              "        dataTable['output_type'] = 'display_data';\n",
              "        await google.colab.output.renderOutput(dataTable, element);\n",
              "        const docLink = document.createElement('div');\n",
              "        docLink.innerHTML = docLinkHtml;\n",
              "        element.appendChild(docLink);\n",
              "      }\n",
              "    </script>\n",
              "  </div>\n",
              "\n",
              "\n",
              "<div id=\"df-49d9b2a8-e588-4d60-ac5f-3244d26443e4\">\n",
              "  <button class=\"colab-df-quickchart\" onclick=\"quickchart('df-49d9b2a8-e588-4d60-ac5f-3244d26443e4')\"\n",
              "            title=\"Suggest charts\"\n",
              "            style=\"display:none;\">\n",
              "\n",
              "<svg xmlns=\"http://www.w3.org/2000/svg\" height=\"24px\"viewBox=\"0 0 24 24\"\n",
              "     width=\"24px\">\n",
              "    <g>\n",
              "        <path d=\"M19 3H5c-1.1 0-2 .9-2 2v14c0 1.1.9 2 2 2h14c1.1 0 2-.9 2-2V5c0-1.1-.9-2-2-2zM9 17H7v-7h2v7zm4 0h-2V7h2v10zm4 0h-2v-4h2v4z\"/>\n",
              "    </g>\n",
              "</svg>\n",
              "  </button>\n",
              "\n",
              "<style>\n",
              "  .colab-df-quickchart {\n",
              "      --bg-color: #E8F0FE;\n",
              "      --fill-color: #1967D2;\n",
              "      --hover-bg-color: #E2EBFA;\n",
              "      --hover-fill-color: #174EA6;\n",
              "      --disabled-fill-color: #AAA;\n",
              "      --disabled-bg-color: #DDD;\n",
              "  }\n",
              "\n",
              "  [theme=dark] .colab-df-quickchart {\n",
              "      --bg-color: #3B4455;\n",
              "      --fill-color: #D2E3FC;\n",
              "      --hover-bg-color: #434B5C;\n",
              "      --hover-fill-color: #FFFFFF;\n",
              "      --disabled-bg-color: #3B4455;\n",
              "      --disabled-fill-color: #666;\n",
              "  }\n",
              "\n",
              "  .colab-df-quickchart {\n",
              "    background-color: var(--bg-color);\n",
              "    border: none;\n",
              "    border-radius: 50%;\n",
              "    cursor: pointer;\n",
              "    display: none;\n",
              "    fill: var(--fill-color);\n",
              "    height: 32px;\n",
              "    padding: 0;\n",
              "    width: 32px;\n",
              "  }\n",
              "\n",
              "  .colab-df-quickchart:hover {\n",
              "    background-color: var(--hover-bg-color);\n",
              "    box-shadow: 0 1px 2px rgba(60, 64, 67, 0.3), 0 1px 3px 1px rgba(60, 64, 67, 0.15);\n",
              "    fill: var(--button-hover-fill-color);\n",
              "  }\n",
              "\n",
              "  .colab-df-quickchart-complete:disabled,\n",
              "  .colab-df-quickchart-complete:disabled:hover {\n",
              "    background-color: var(--disabled-bg-color);\n",
              "    fill: var(--disabled-fill-color);\n",
              "    box-shadow: none;\n",
              "  }\n",
              "\n",
              "  .colab-df-spinner {\n",
              "    border: 2px solid var(--fill-color);\n",
              "    border-color: transparent;\n",
              "    border-bottom-color: var(--fill-color);\n",
              "    animation:\n",
              "      spin 1s steps(1) infinite;\n",
              "  }\n",
              "\n",
              "  @keyframes spin {\n",
              "    0% {\n",
              "      border-color: transparent;\n",
              "      border-bottom-color: var(--fill-color);\n",
              "      border-left-color: var(--fill-color);\n",
              "    }\n",
              "    20% {\n",
              "      border-color: transparent;\n",
              "      border-left-color: var(--fill-color);\n",
              "      border-top-color: var(--fill-color);\n",
              "    }\n",
              "    30% {\n",
              "      border-color: transparent;\n",
              "      border-left-color: var(--fill-color);\n",
              "      border-top-color: var(--fill-color);\n",
              "      border-right-color: var(--fill-color);\n",
              "    }\n",
              "    40% {\n",
              "      border-color: transparent;\n",
              "      border-right-color: var(--fill-color);\n",
              "      border-top-color: var(--fill-color);\n",
              "    }\n",
              "    60% {\n",
              "      border-color: transparent;\n",
              "      border-right-color: var(--fill-color);\n",
              "    }\n",
              "    80% {\n",
              "      border-color: transparent;\n",
              "      border-right-color: var(--fill-color);\n",
              "      border-bottom-color: var(--fill-color);\n",
              "    }\n",
              "    90% {\n",
              "      border-color: transparent;\n",
              "      border-bottom-color: var(--fill-color);\n",
              "    }\n",
              "  }\n",
              "</style>\n",
              "\n",
              "  <script>\n",
              "    async function quickchart(key) {\n",
              "      const quickchartButtonEl =\n",
              "        document.querySelector('#' + key + ' button');\n",
              "      quickchartButtonEl.disabled = true;  // To prevent multiple clicks.\n",
              "      quickchartButtonEl.classList.add('colab-df-spinner');\n",
              "      try {\n",
              "        const charts = await google.colab.kernel.invokeFunction(\n",
              "            'suggestCharts', [key], {});\n",
              "      } catch (error) {\n",
              "        console.error('Error during call to suggestCharts:', error);\n",
              "      }\n",
              "      quickchartButtonEl.classList.remove('colab-df-spinner');\n",
              "      quickchartButtonEl.classList.add('colab-df-quickchart-complete');\n",
              "    }\n",
              "    (() => {\n",
              "      let quickchartButtonEl =\n",
              "        document.querySelector('#df-49d9b2a8-e588-4d60-ac5f-3244d26443e4 button');\n",
              "      quickchartButtonEl.style.display =\n",
              "        google.colab.kernel.accessAllowed ? 'block' : 'none';\n",
              "    })();\n",
              "  </script>\n",
              "</div>\n",
              "    </div>\n",
              "  </div>\n"
            ]
          },
          "metadata": {},
          "execution_count": 7
        }
      ]
    },
    {
      "cell_type": "code",
      "source": [
        "#chargez le fichier\n",
        "df.to_csv('Trovit.csv')"
      ],
      "metadata": {
        "id": "X0_i_0RoYHzP"
      },
      "execution_count": null,
      "outputs": []
    },
    {
      "cell_type": "markdown",
      "source": [
        "# PROPERTY FROM CAPE TOWN\n",
        "\n",
        "Lien: https://www.privateproperty.co.za/for-sale/western-cape/cape-town/55"
      ],
      "metadata": {
        "id": "mGHjIBvEDZwt"
      }
    },
    {
      "cell_type": "code",
      "source": [
        "#import la bibliothèque request et beautifulsoup ,des outils adapté pour scraper la page web\n",
        "import requests\n",
        "from bs4 import BeautifulSoup as bs\n",
        "#import panda\n",
        "import pandas as pd\n",
        "import re"
      ],
      "metadata": {
        "id": "3DcjMcd1mcL2"
      },
      "execution_count": null,
      "outputs": []
    },
    {
      "cell_type": "code",
      "source": [
        "link=\"https://www.privateproperty.co.za/for-sale/western-cape/cape-town/55\"\n",
        "answer= requests.get(link)\n",
        "answer.status_code"
      ],
      "metadata": {
        "id": "1Sev43EcmcUk"
      },
      "execution_count": null,
      "outputs": []
    },
    {
      "cell_type": "code",
      "source": [
        "all_link =[]\n",
        "all_data=[]\n",
        "soup=bs(answer.content,\"html.parser\")\n",
        "data=soup.find(class_=\"linksHolder col\")\n",
        "#tous les liens de la première page\n",
        "for link in data.find_all(\"li\"):\n",
        "    a= link.find(\"a\")\n",
        "    if a is None:\n",
        "        continue\n",
        "    href=\"https://www.privateproperty.co.za\"+a.get(\"href\")\n",
        "    all_link.append(href)\n",
        "\n",
        "for link in all_link:\n",
        "    next_url=link\n",
        "    while True:\n",
        "        reps=requests.get(next_url)\n",
        "        soup1=bs(reps.content,\"html.parser\")\n",
        "        page=soup1.find(class_=\"resultsItemsContainer\")\n",
        "        a =page.find_all(class_=\"listingResult row\")\n",
        "\n",
        "        url_page=[]\n",
        "        for link in a:\n",
        "            href_page=\"https://www.privateproperty.co.za\"+link.get(\"href\")\n",
        "            url_page.append(href_page)\n",
        "\n",
        "\n",
        "        for post_link in url_page:\n",
        "            resp1 = requests.get(post_link)\n",
        "            soup2 = bs(resp1.content, \"html.parser\")\n",
        "\n",
        "            info_pub={}\n",
        "\n",
        "            all_area =soup2.find_all(class_=\"mainFeature\")\n",
        "            for element in all_area:\n",
        "                key=element.find(\"strong\").text.strip()\n",
        "                values=element.find(\"strong\").next_sibling.text.strip()\n",
        "                info_pub.update({\n",
        "                        key:values,\n",
        "                    })\n",
        "\n",
        "            feature =soup2.find(class_=\"featureCols\")\n",
        "            for attribut in feature.find_all(class_=\"attribute\"):\n",
        "                key=attribut.find(class_=\"propAttrValue\").get_text()\n",
        "                values=attribut.find(class_=\"attributeLabel\").get_text()\n",
        "                info_pub.update({\n",
        "                        key:values,\n",
        "                    })\n",
        "\n",
        "            data=soup2.find(class_=\"titleContainer\")\n",
        "            try:\n",
        "                title = data.find(\"h1\").get_text()\n",
        "            except:\n",
        "                title=None\n",
        "\n",
        "            try:\n",
        "                price=data.find(class_=\"priceInfo\").find(class_=\"detailsPrice\").get_text()\n",
        "            except:\n",
        "                price=None\n",
        "\n",
        "            try:\n",
        "                address = data.find(class_=\"address\").get_text()\n",
        "            except:\n",
        "                address = None\n",
        "            info_pub.update({\n",
        "                        \"title \":title ,\n",
        "                        \"price[R]\":price,\n",
        "                        \"address\":address\n",
        "                    })\n",
        "            all_data.append(info_pub)\n",
        "\n",
        "        next_url=soup1.find(class_=\"pagination\").find_all(class_=\"pageNumber\")[-1]\n",
        "        if \"disabled\" in next_url.get(\"class\"):\n",
        "            break\n",
        "        next_url=\"https://www.privateproperty.co.za\"+next_url.get(\"href\")\n",
        "#print(all_link)\n"
      ],
      "metadata": {
        "id": "JZ3BmzxGmcYd"
      },
      "execution_count": null,
      "outputs": []
    },
    {
      "cell_type": "code",
      "source": [
        "df=pd.DataFrame(all_data)\n",
        "df.shape\n",
        "\n"
      ],
      "metadata": {
        "id": "QrQeOO1wmcdd"
      },
      "execution_count": null,
      "outputs": []
    },
    {
      "cell_type": "code",
      "source": [
        "#chargez le fichier\n",
        "df.to_csv('Cape_town.csv')\n"
      ],
      "metadata": {
        "id": "4tvG8uG6mcho"
      },
      "execution_count": null,
      "outputs": []
    },
    {
      "cell_type": "markdown",
      "source": [
        "# PROPERTY FROM PAMGOLDING\n",
        "\n",
        "Liens:https://www.pamgolding.co.za/property-search/properties-for-sale-limpopo-province/1874"
      ],
      "metadata": {
        "id": "QBBTQmHCioIY"
      }
    },
    {
      "cell_type": "code",
      "source": [
        "#importation la bibliothèque\n",
        "import requests\n",
        "from bs4 import BeautifulSoup as bs\n",
        "import pandas as pd\n",
        "import math"
      ],
      "metadata": {
        "id": "vZYYBdBu3b2f"
      },
      "execution_count": null,
      "outputs": []
    },
    {
      "cell_type": "code",
      "source": [
        "link=\"https://www.pamgolding.co.za/property-search/properties-for-sale-limpopo-province/1874\"\n",
        "answer= requests.get(link)\n",
        "answer.status_code"
      ],
      "metadata": {
        "colab": {
          "base_uri": "https://localhost:8080/"
        },
        "id": "rgDbSr2d3b7A",
        "outputId": "d6a7eace-d500-473a-c5c4-b45e921efc58"
      },
      "execution_count": null,
      "outputs": [
        {
          "output_type": "execute_result",
          "data": {
            "text/plain": [
              "200"
            ]
          },
          "metadata": {},
          "execution_count": 2
        }
      ]
    },
    {
      "cell_type": "code",
      "source": [
        "soup=bs(answer.content,\"html.parser\")\n",
        "nbr_page = math.ceil(int(soup.find(\"title\").text.strip().split()[0])/10)\n",
        "all_data=[]\n",
        "next_url = link\n",
        "page = 1\n",
        "while page <= nbr_page:\n",
        "\n",
        "    resp = requests.get(next_url)\n",
        "    soup1=bs(resp.content, \"html.parser\")\n",
        "    data=soup1.find_all(class_=\"pgp-property__item\")\n",
        "    #Exctraction\n",
        "    for info in data:\n",
        "        try:\n",
        "            description=info.find(class_=\"pgp-description\").text\n",
        "        except:\n",
        "            description=None\n",
        "        try:\n",
        "            price=info.find(class_=\"pgp-price\").text\n",
        "        except:\n",
        "            price=None\n",
        "        try:\n",
        "            bedroom=info.find(class_=\"icon bedroom\").find_previous_sibling(class_=\"text\").text\n",
        "        except:\n",
        "            bedroom=None\n",
        "        try:\n",
        "            bathroom=info.find(class_=\"icon bathroom\").find_previous_sibling(class_=\"text\").text\n",
        "        except:\n",
        "            bathroom=None\n",
        "        try:\n",
        "            erf_size=info.find(class_=\"icon erf-size\").find_next_sibling(class_=\"text\").text\n",
        "        except:\n",
        "            erf_size=None\n",
        "        try:\n",
        "            building=info.find(class_=\"building-size\").find_next_sibling(class_=\"text\").text\n",
        "        except:\n",
        "            building=None\n",
        "\n",
        "        try:\n",
        "            parking=info.find(class_=\"parking\").find_previous_sibling(class_=\"text\").text\n",
        "        except:\n",
        "            parking=None\n",
        "\n",
        "        try:\n",
        "            garage=info.find(class_=\"garage\").find_previous_sibling(class_=\"text\").text\n",
        "        except:\n",
        "            garage=None\n",
        "\n",
        "        data_info_appartements = {\n",
        "            \"price\":price,\n",
        "            \"description\": description,\n",
        "            \"bedroom\":bedroom,\n",
        "            \"bathroom\":bathroom,\n",
        "            \"erf_size\":erf_size,\n",
        "            \"building_size\": building,\n",
        "            \"parking\":parking,\n",
        "            \"garage\": garage\n",
        "        }\n",
        "        all_data.append(data_info_appartements)\n",
        "\n",
        "\n",
        "    page += 1\n",
        "    next_url = f\"https://www.pamgolding.co.za/property-search/properties-for-sale-limpopo-province/1874/page{page}\"\n"
      ],
      "metadata": {
        "id": "MHbnb_WM3b_c"
      },
      "execution_count": null,
      "outputs": []
    },
    {
      "cell_type": "code",
      "source": [
        "df=pd.DataFrame(all_data)\n",
        "df[\"price\"] = df[\"price\"].apply(lambda x: None if x==\"\" else x)\n",
        "df.dropna(subset=[\"price\"]).info()"
      ],
      "metadata": {
        "colab": {
          "base_uri": "https://localhost:8080/"
        },
        "id": "TSRRPf6y3cD3",
        "outputId": "6948307b-6150-4fa8-9676-0afd486296df"
      },
      "execution_count": null,
      "outputs": [
        {
          "output_type": "stream",
          "name": "stdout",
          "text": [
            "<class 'pandas.core.frame.DataFrame'>\n",
            "Int64Index: 897 entries, 0 to 985\n",
            "Data columns (total 8 columns):\n",
            " #   Column         Non-Null Count  Dtype \n",
            "---  ------         --------------  ----- \n",
            " 0   price          897 non-null    object\n",
            " 1   description    897 non-null    object\n",
            " 2   bedroom        473 non-null    object\n",
            " 3   bathroom       468 non-null    object\n",
            " 4   erf_size       859 non-null    object\n",
            " 5   building_size  112 non-null    object\n",
            " 6   parking        78 non-null     object\n",
            " 7   garage         257 non-null    object\n",
            "dtypes: object(8)\n",
            "memory usage: 63.1+ KB\n"
          ]
        }
      ]
    },
    {
      "cell_type": "code",
      "source": [
        "#chargez le fichier\n",
        "df.to_csv('pamgolding.csv')"
      ],
      "metadata": {
        "id": "PPcbHuDu3cHk"
      },
      "execution_count": null,
      "outputs": []
    },
    {
      "cell_type": "code",
      "source": [],
      "metadata": {
        "id": "5MeO49Nx3cJo"
      },
      "execution_count": null,
      "outputs": []
    },
    {
      "cell_type": "code",
      "source": [],
      "metadata": {
        "id": "dgKWE_pb3cNO"
      },
      "execution_count": null,
      "outputs": []
    },
    {
      "cell_type": "code",
      "source": [],
      "metadata": {
        "id": "kH9JBBcH3cRJ"
      },
      "execution_count": null,
      "outputs": []
    }
  ],
  "metadata": {
    "colab": {
      "provenance": [],
      "collapsed_sections": [
        "ItBEa_rOTZf1",
        "Lo9FQosfUn3r",
        "wG1LGaYFr_mR",
        "5giyrvGZEUvq",
        "p5fOPNbsCRAx",
        "dXCo-u7t2wdc",
        "x5mS1cB8Nzbw",
        "O7quaISWXdiT",
        "mGHjIBvEDZwt",
        "QBBTQmHCioIY"
      ]
    },
    "kernelspec": {
      "display_name": "Python 3",
      "name": "python3"
    },
    "language_info": {
      "name": "python"
    }
  },
  "nbformat": 4,
  "nbformat_minor": 0
}